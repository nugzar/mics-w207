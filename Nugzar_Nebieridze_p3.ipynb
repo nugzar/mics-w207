{
  "nbformat": 4,
  "nbformat_minor": 0,
  "metadata": {
    "colab": {
      "name": "Nugzar_Nebieridze_p3.ipynb",
      "provenance": [],
      "private_outputs": true,
      "collapsed_sections": [],
      "include_colab_link": true
    },
    "kernelspec": {
      "display_name": "Python 3",
      "language": "python",
      "name": "python3"
    },
    "language_info": {
      "codemirror_mode": {
        "name": "ipython",
        "version": 3
      },
      "file_extension": ".py",
      "mimetype": "text/x-python",
      "name": "python",
      "nbconvert_exporter": "python",
      "pygments_lexer": "ipython3",
      "version": "3.7.1"
    },
    "toc": {
      "base_numbering": 1,
      "nav_menu": {},
      "number_sections": false,
      "sideBar": true,
      "skip_h1_title": true,
      "title_cell": "Table of Contents",
      "title_sidebar": "Contents",
      "toc_cell": false,
      "toc_position": {},
      "toc_section_display": true,
      "toc_window_display": false
    }
  },
  "cells": [
    {
      "cell_type": "markdown",
      "metadata": {
        "id": "view-in-github",
        "colab_type": "text"
      },
      "source": [
        "<a href=\"https://colab.research.google.com/github/nugzar/mics-w207/blob/master/Nugzar_Nebieridze_p3.ipynb\" target=\"_parent\"><img src=\"https://colab.research.google.com/assets/colab-badge.svg\" alt=\"Open In Colab\"/></a>"
      ]
    },
    {
      "cell_type": "markdown",
      "metadata": {
        "colab_type": "text",
        "id": "4r1L69aGoZG0"
      },
      "source": [
        "# Project 3: Poisonous Mushrooms"
      ]
    },
    {
      "cell_type": "markdown",
      "metadata": {
        "colab_type": "text",
        "id": "btVARsAroZG1"
      },
      "source": [
        "In this project, you'll investigate properties of mushrooms. This classic dataset contains over 8000 observations, where each mushroom is described by a variety of features like color, odor, etc., and the target variable is an indicator for whether the mushroom is poisonous. Since all the observations are categorical, I've binarized the feature space. Look at the feature_names below to see all 126 binary names.\n",
        "\n",
        "You'll start by running PCA to reduce the dimensionality from 126 down to 2 so that you can easily visualize the data. In general, PCA is very useful for visualization (though sklearn.manifold.tsne is known to produce better visualizations). Recall that PCA is a linear transformation. The 1st projected dimension is the linear combination of all 126 original features that captures as much of the variance in the data as possible. The 2nd projected dimension is the linear combination of all 126 original features that captures as much of the remaining variance as possible. The idea of dense low dimensional representations is crucial to machine learning!\n",
        "\n",
        "Once you've projected the data to 2 dimensions, you'll experiment with clustering using KMeans and density estimation with Gaussian Mixture Models. Finally, you'll train a classifier by fitting a GMM for the positive class and a GMM for the negative class, and perform inference by comparing the probabilities output by each model.\n",
        "\n",
        "As always, you're welcome to work on the project in groups and discuss ideas on the course wall, but please prepare your own write-up and write your own code."
      ]
    },
    {
      "cell_type": "code",
      "metadata": {
        "colab_type": "code",
        "id": "YDvuh15loZG2",
        "colab": {}
      },
      "source": [
        "%matplotlib inline\n",
        "\n",
        "import urllib.request as urllib2 # For python3\n",
        "import numpy as np\n",
        "import matplotlib.pyplot as plt\n",
        "from sklearn import metrics\n",
        "from sklearn.decomposition import PCA\n",
        "from sklearn.cluster import KMeans\n",
        "from sklearn.mixture import GaussianMixture\n",
        "from matplotlib.colors import LogNorm"
      ],
      "execution_count": 0,
      "outputs": []
    },
    {
      "cell_type": "code",
      "metadata": {
        "colab_type": "code",
        "id": "JKyn8WO1pJwK",
        "colab": {}
      },
      "source": [
        "MUSHROOM_DATA = 'https://raw.githubusercontent.com/UCB-MIDS/207-Applied-Machine-Learning/master/Data/mushroom.data'\n",
        "MUSHROOM_MAP = 'https://raw.githubusercontent.com/UCB-MIDS/207-Applied-Machine-Learning/master/Data/mushroom.map'"
      ],
      "execution_count": 0,
      "outputs": []
    },
    {
      "cell_type": "markdown",
      "metadata": {
        "colab_type": "text",
        "id": "28FIvBtVoZG4"
      },
      "source": [
        "Load feature names."
      ]
    },
    {
      "cell_type": "code",
      "metadata": {
        "colab_type": "code",
        "id": "zXUv_S1YoZG4",
        "colab": {}
      },
      "source": [
        "feature_names = []\n",
        "\n",
        "for line in urllib2.urlopen(MUSHROOM_MAP):\n",
        "    [index, name, junk] = line.decode('utf-8').split()\n",
        "    feature_names.append(name)\n",
        "\n",
        "print('Loaded feature names: ', len(feature_names))"
      ],
      "execution_count": 0,
      "outputs": []
    },
    {
      "cell_type": "markdown",
      "metadata": {
        "colab_type": "text",
        "id": "k034gVFboZHA"
      },
      "source": [
        "Load data. The data is sparse in the input file, but there aren't too many features, so we'll use a dense representation, which is supported by all sklearn objects."
      ]
    },
    {
      "cell_type": "code",
      "metadata": {
        "colab_type": "code",
        "id": "gg6IVy0loZHA",
        "colab": {}
      },
      "source": [
        "X, Y = [], []\n",
        "\n",
        "for line in urllib2.urlopen(MUSHROOM_DATA):\n",
        "    items = line.decode('utf-8').split()\n",
        "    Y.append(int(items.pop(0)))\n",
        "    x = np.zeros(len(feature_names))\n",
        "    for item in items:\n",
        "        feature = int(str(item).split(':')[0])\n",
        "        x[feature] = 1\n",
        "    X.append(x)\n",
        "\n",
        "# Convert these lists to numpy arrays.\n",
        "X = np.array(X)\n",
        "Y = np.array(Y)\n",
        "\n",
        "# Split into train and test data.\n",
        "train_data, train_labels = X[:7000], Y[:7000]\n",
        "test_data, test_labels = X[7000:], Y[7000:]\n",
        "\n",
        "# Check that the shapes look right.\n",
        "print(train_data.shape, test_data.shape)"
      ],
      "execution_count": 0,
      "outputs": []
    },
    {
      "cell_type": "markdown",
      "metadata": {
        "colab_type": "text",
        "id": "nr25XV7BoZHC"
      },
      "source": [
        "### Part 1:\n",
        "\n",
        "Run Principal Components Analysis on the data. Show what fraction of the total variance in the training data is explained by the first k principal components, for k in [1, 50]."
      ]
    },
    {
      "cell_type": "code",
      "metadata": {
        "colab_type": "code",
        "id": "frHUWcZUoZHC",
        "colab": {}
      },
      "source": [
        "def P1():\n",
        "  ### STUDENT START ###\n",
        "\n",
        "  np.random.seed(0)\n",
        "  \n",
        "  model = PCA()\n",
        "  model.fit_transform(train_data)\n",
        "\n",
        "  # We need cumulative sums by components\n",
        "  variances = model.explained_variance_ratio_.cumsum()\n",
        "\n",
        "  # Printing variances by components [1,50]\n",
        "  # The last row is the accuracy of 50 components\n",
        "  for k in range(50):\n",
        "    print (\"k =\", k + 1, \" Variance =\", variances[k])\n",
        "\n",
        "  ### STUDENT END ###\n",
        "\n",
        "P1()"
      ],
      "execution_count": 0,
      "outputs": []
    },
    {
      "cell_type": "markdown",
      "metadata": {
        "colab_type": "text",
        "id": "zbGl1D3RoZHE"
      },
      "source": [
        "### Part 2:\n",
        "\n",
        "PCA can be very useful for visualizing data. Project the training data down to 2 dimensions and plot it. Show the positive (poisonous) cases in blue and the negative (non-poisonous) in red. Here's a reference for plotting: http://matplotlib.org/users/pyplot_tutorial.html"
      ]
    },
    {
      "cell_type": "code",
      "metadata": {
        "colab_type": "code",
        "id": "ZqPswXVloZHE",
        "colab": {}
      },
      "source": [
        "def P2():\n",
        "  \n",
        "  ### STUDENT START ###\n",
        "\n",
        "  np.random.seed(0)\n",
        "  \n",
        "  model = PCA(n_components=2)\n",
        "  results = model.fit_transform(train_data)\n",
        "\n",
        "  plt.figure(figsize = (5,5))\n",
        "  plt.axis([-3,3,-3,3])\n",
        "\n",
        "  # when train_label == 1, then the mushroom is poisonous\n",
        "  # when train_label == 0, then the mushroom is not poisonous\n",
        "\n",
        "  plt.plot(results[:,0][train_labels==1], results[:,1][train_labels==1], 'bo', markersize=1)\n",
        "  plt.plot(results[:,0][train_labels==0], results[:,1][train_labels==0], 'ro', markersize=1)\n",
        "\n",
        "  plt.xlabel('Component 1')\n",
        "  plt.ylabel('Component 2')\n",
        "  plt.title(\"PCA components=2 data visualization\")\n",
        "  plt.legend([\"Poisonous\", \"Non poisonous\"]) \n",
        "\n",
        "  ### STUDENT END ###\n",
        "\n",
        "P2()"
      ],
      "execution_count": 0,
      "outputs": []
    },
    {
      "cell_type": "markdown",
      "metadata": {
        "colab_type": "text",
        "id": "yuHTFCyNoZHG"
      },
      "source": [
        "### Part 3:\n",
        "\n",
        "Run KMeans with [1,16] clusters over the 2d projected data. Mark each centroid cluster and plot a circle that goes through the most distant point assigned to each cluster."
      ]
    },
    {
      "cell_type": "code",
      "metadata": {
        "colab_type": "code",
        "id": "gJcVJnkPoZHG",
        "colab": {}
      },
      "source": [
        "def P3():\n",
        "\n",
        "  ### STUDENT START ###\n",
        "\n",
        "  np.random.seed(0)\n",
        "\n",
        "  model = PCA(n_components=2)\n",
        "  results = model.fit_transform(train_data)\n",
        "\n",
        "  # Do not clearly understood if we need 16 different plots for each cluster \n",
        "  # in range or just the plot with 16 clusters. Lets draw all 16 plots\n",
        "\n",
        "  for cluster in range(1,17):\n",
        "\n",
        "    plt.figure(figsize = (10,10))\n",
        "    plt.axis([-3,3,-3,3])\n",
        "    plt.plot(results[:,0][train_labels==1], results[:,1][train_labels==1], 'bo', markersize=1)\n",
        "    plt.plot(results[:,0][train_labels==0], results[:,1][train_labels==0], 'ro', markersize=1)\n",
        "\n",
        "    plt.xlabel('Component 1')\n",
        "    plt.ylabel('Component 2')\n",
        "    plt.title(\"PCA components=2, KMeans clusters=%d\" % cluster)\n",
        "    plt.legend([\"Poisonous\", \"Non poisonous\"]) \n",
        "\n",
        "    # Found a good samle of calculating the Diameter of the cluster\n",
        "    # Will be using it\n",
        "    # https://datascience.stackexchange.com/questions/32753/find-cluster-diameter-and-associated-cluster-points-with-kmeans-clustering-scik\n",
        "  \n",
        "    kmodel = KMeans(n_clusters=cluster).fit(results)\n",
        "    kcenters = kmodel.cluster_centers_\n",
        "    kpredictions = kmodel.predict(results)\n",
        "    plt.scatter(kcenters[:, 0], kcenters[:, 1], c='black', s=30, zorder=3)\n",
        "    ax = plt.gca()\n",
        "\n",
        "    for ix in range(cluster):\n",
        "      # Calculating radius\n",
        "      radii = max([np.linalg.norm(np.subtract(i,kcenters[ix])) for i in zip(results[kpredictions == ix, 0],results[kpredictions == ix, 1])])\n",
        "      ax.add_patch(plt.Circle(kcenters[ix],radii,fill=False,alpha=0.5))\n",
        "\n",
        "  ### STUDENT END ###\n",
        "\n",
        "P3()"
      ],
      "execution_count": 0,
      "outputs": []
    },
    {
      "cell_type": "markdown",
      "metadata": {
        "colab_type": "text",
        "id": "v4dXc_VloZHI"
      },
      "source": [
        "### Part 4:\n",
        "\n",
        "Fit a Gaussian Mixture Model for the positive examples in your 2d projected data. Plot the estimated density contours as shown here: http://scikit-learn.org/stable/auto_examples/mixture/plot_gmm_pdf.html#example-mixture-plot-gmm-pdf-py. Vary the number of mixture components from 1-4 and the covariance matrix type ('spherical', 'diag', 'tied', 'full')."
      ]
    },
    {
      "cell_type": "code",
      "metadata": {
        "colab_type": "code",
        "id": "ZJSPb5gioZHI",
        "colab": {}
      },
      "source": [
        "def P4():\n",
        "\n",
        "  ### STUDENT START ###\n",
        "\n",
        "  np.random.seed(0)\n",
        "  \n",
        "  model = PCA(n_components=2)\n",
        "  results = model.fit_transform(train_data)\n",
        "  positives = results[train_labels == 1]\n",
        "  covar_types = ['spherical', 'diag', 'tied', 'full']\n",
        "  \n",
        "  for component in range(4):\n",
        "    for covar_type in covar_types:\n",
        "\n",
        "      gmm = GaussianMixture(n_components=component+1, covariance_type=covar_type).fit(positives)\n",
        "\n",
        "      # Also using some sample code from the internet :)\n",
        "\n",
        "      x = np.linspace(-4.0, 4.0)\n",
        "      y = np.linspace(-4.0, 4.0)\n",
        "      X, Y = np.meshgrid(x, y)\n",
        "      XX = np.array([X.ravel(), Y.ravel()]).T\n",
        "      Z = -gmm.score_samples(XX)\n",
        "      Z = Z.reshape(X.shape)\n",
        "      \n",
        "      plt.figure(figsize = (10, 10))\n",
        "      CS = plt.contour(X, Y, Z, norm=LogNorm(vmin=1.0, vmax=1000.0), levels=np.logspace(0, 3, 10))\n",
        "      CB = plt.colorbar(CS, shrink=0.8, extend='both')\n",
        "      plt.scatter(positives[:, 0], positives[:, 1], .8)\n",
        "      plt.title(\"PCA components=2, GMM compoments=%d, Covariance = %s\" % (component+1, covar_type))\n",
        "      plt.show()\n",
        "\n",
        "  ### STUDENT END ###\n",
        "\n",
        "P4()"
      ],
      "execution_count": 0,
      "outputs": []
    },
    {
      "cell_type": "markdown",
      "metadata": {
        "colab_type": "text",
        "id": "iMcLxdqDoZHL"
      },
      "source": [
        "### Part 5:\n",
        "\n",
        "Fit two 4-component full covariance GMMs, one for the positive examples and one for the negative examples in your 2d projected data. Predict the test examples by choosing the label for which the model gives a larger probability (use GMM.score). What is the accuracy?"
      ]
    },
    {
      "cell_type": "code",
      "metadata": {
        "colab_type": "code",
        "id": "AOKXtGBzoZHL",
        "colab": {}
      },
      "source": [
        "def P5():\n",
        "\n",
        "  ### STUDENT START ###\n",
        "\n",
        "  np.random.seed(0)\n",
        "\n",
        "  model = PCA(n_components=2)\n",
        "  train_results = model.fit_transform(train_data)\n",
        "  test_results = model.transform(test_data)\n",
        "\n",
        "  train_positives = train_results[train_labels == 1]\n",
        "  train_negatives = train_results[train_labels == 0]\n",
        "\n",
        "  gmm_positives = GaussianMixture(n_components=4, covariance_type=\"full\").fit(train_positives)\n",
        "  gmm_negatives = GaussianMixture(n_components=4, covariance_type=\"full\").fit(train_negatives)\n",
        "\n",
        "  correct_positives = 0\n",
        "  correct_negatives = 0\n",
        "\n",
        "  for i in range(len(test_labels)):\n",
        "    if ((gmm_positives.score([test_results[i]]) > gmm_negatives.score([test_results[i]])) and test_labels[i] == 1):\n",
        "          correct_positives = correct_positives + 1\n",
        "\n",
        "    if ((gmm_positives.score([test_results[i]]) < gmm_negatives.score([test_results[i]])) and test_labels[i] == 0):\n",
        "          correct_negatives = correct_negatives + 1\n",
        "\n",
        "  print('Accuracy of positives', correct_positives / len(test_labels[test_labels == 1]))\n",
        "  print('Accuracy of negatives', correct_negatives / len(test_labels[test_labels == 0]))\n",
        "  print('Total Accuracy', (correct_positives + correct_negatives) / len(test_labels))\n",
        "\n",
        "  ### STUDENT END ###\n",
        "\n",
        "P5()"
      ],
      "execution_count": 0,
      "outputs": []
    },
    {
      "cell_type": "markdown",
      "metadata": {
        "colab_type": "text",
        "id": "oWV5Ld70oZHN"
      },
      "source": [
        "### Part 6:\n",
        "\n",
        "Ideally, we'd like a model that gives the best accuracy with the fewest parameters. Run a series of experiments to find the model that gives the best accuracy with no more than 50 parameters. For example, with 3 PCA components and 2-component diagonal covariance GMMs, you'd have:\n",
        "\n",
        "( (3 mean vector + 3 covariance matrix) x 2 components ) x 2 classes = 24 parameters\n",
        "\n",
        "You should vary the number of PCA components, the number of GMM components, and the covariance type."
      ]
    },
    {
      "cell_type": "code",
      "metadata": {
        "colab_type": "code",
        "id": "wWCMLsM2oZHN",
        "colab": {}
      },
      "source": [
        "def P6():\n",
        "\n",
        "  ### STUDENT START ###\n",
        "\n",
        "  np.random.seed(0)\n",
        "\n",
        "  # Depending on covariance types, PCA and GMM components can take the ranges\n",
        "  # PCA [1, 24] and GMM [1, 24] \n",
        "\n",
        "  # full = (n_pca*n_gmm + n_pca (n_pca + 1)/ 2 * n_gmm) * n_classes\n",
        "  # diagonal = (n_pca*n_gmm + n_pca * n_gmm) * n_classes\n",
        "  # spherical = (n_pca*n_gmm + n_gmm) * n_classes\n",
        "  # tied = (n_pca*n_gmm + n_pca (n_pca + 1)/ 2) * n_classes\n",
        "\n",
        "  # So, lets calculate the best accuracy for these ranges\n",
        "\n",
        "  best_combination = ()\n",
        "  best_accuracy = 0.\n",
        "\n",
        "  print (\"Best result will be printed at the end\\n\")\n",
        "\n",
        "  for pca_component in range(1, 25):\n",
        "\n",
        "    model = PCA(n_components=pca_component)\n",
        "    train_results = model.fit_transform(train_data)\n",
        "    test_results = model.transform(test_data)\n",
        "\n",
        "    train_positives = train_results[train_labels == 1]\n",
        "    train_negatives = train_results[train_labels == 0]\n",
        "\n",
        "    for gmm_component in range(1, 25):\n",
        "\n",
        "      for covar_type in ['spherical', 'diag', 'tied', 'full']:\n",
        "\n",
        "        # Let's calculate the number of parameters and if it is larger than 50 \n",
        "        # then continue\n",
        "        parameters_count = 0\n",
        "\n",
        "        if covar_type == 'spherical':\n",
        "          parameters_count = (pca_component * gmm_component + gmm_component) * 2\n",
        "        elif covar_type == 'diag':\n",
        "          parameters_count = (pca_component * gmm_component + pca_component * gmm_component) * 2\n",
        "        elif covar_type == 'tied':\n",
        "          parameters_count = (pca_component * gmm_component + pca_component * (pca_component + 1) / 2) * 2\n",
        "        elif covar_type == 'full':\n",
        "          parameters_count = (pca_component * gmm_component + pca_component * (pca_component + 1) / 2 * gmm_component) * 2\n",
        "\n",
        "        if parameters_count > 50:\n",
        "          continue\n",
        "\n",
        "        gmm_positives = GaussianMixture(n_components=gmm_component, covariance_type=covar_type).fit(train_positives)\n",
        "        gmm_negatives = GaussianMixture(n_components=gmm_component, covariance_type=covar_type).fit(train_negatives)\n",
        "\n",
        "        correct_predictions = 0\n",
        "\n",
        "        for i in range(len(test_labels)):\n",
        "          if ((gmm_positives.score([test_results[i]]) > gmm_negatives.score([test_results[i]])) and test_labels[i] == 1):\n",
        "            correct_predictions = correct_predictions + 1\n",
        "\n",
        "          if ((gmm_positives.score([test_results[i]]) < gmm_negatives.score([test_results[i]])) and test_labels[i] == 0):\n",
        "            correct_predictions = correct_predictions + 1\n",
        "\n",
        "        if best_accuracy < correct_predictions / len(test_labels):\n",
        "          best_combination = (pca_component, gmm_component, covar_type, parameters_count, correct_predictions / len(test_labels))\n",
        "          best_accuracy = correct_predictions / len(test_labels)\n",
        "\n",
        "        print (\"Processed: PCA = %d, GMM = (%d,%s), Parameters = %d, Accuracy = %f\" % (pca_component, gmm_component, covar_type, parameters_count, correct_predictions / len(test_labels)))\n",
        "\n",
        "  print (\"\\nBest result: PCA = %d, GMM = (%d,%s), Parameters = %d, Accuracy = %f\" % best_combination)\n",
        "\n",
        "  # This loop takes a while, so I am printing the results below\n",
        "  # Best result: PCA = 7, GMM = (3,spherical), Parameters = 48, Accuracy = 0.973310\n",
        "\n",
        "  ### STUDENT END ###\n",
        "\n",
        "P6()"
      ],
      "execution_count": 0,
      "outputs": []
    }
  ]
}