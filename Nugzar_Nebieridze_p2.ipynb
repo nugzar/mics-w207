{
  "nbformat": 4,
  "nbformat_minor": 0,
  "metadata": {
    "colab": {
      "name": "Nugzar_Nebieridze_p2.ipynb",
      "provenance": [],
      "private_outputs": true,
      "collapsed_sections": [],
      "include_colab_link": true
    },
    "kernelspec": {
      "name": "python3",
      "display_name": "Python 3"
    }
  },
  "cells": [
    {
      "cell_type": "markdown",
      "metadata": {
        "id": "view-in-github",
        "colab_type": "text"
      },
      "source": [
        "<a href=\"https://colab.research.google.com/github/nugzar/mics-w207/blob/master/Nugzar_Nebieridze_p2.ipynb\" target=\"_parent\"><img src=\"https://colab.research.google.com/assets/colab-badge.svg\" alt=\"Open In Colab\"/></a>"
      ]
    },
    {
      "cell_type": "markdown",
      "metadata": {
        "id": "6t55qCf3Fsxa",
        "colab_type": "text"
      },
      "source": [
        "# Project 2: Topic Classification"
      ]
    },
    {
      "cell_type": "markdown",
      "metadata": {
        "id": "j9-9G8z4Fsxd",
        "colab_type": "text"
      },
      "source": [
        "In this project, you'll work with text data from newsgroup postings on a variety of topics. You'll train classifiers to distinguish between the topics based on the text of the posts. Whereas with digit classification, the input is relatively dense: a 28x28 matrix of pixels, many of which are non-zero, here we'll represent each document with a \"bag-of-words\" model. As you'll see, this makes the feature representation quite sparse -- only a few words of the total vocabulary are active in any given document. The bag-of-words assumption here is that the label depends only on the words; their order is not important.\n",
        "\n",
        "The SK-learn documentation on feature extraction will prove useful:\n",
        "http://scikit-learn.org/stable/modules/feature_extraction.html\n",
        "\n",
        "Each problem can be addressed succinctly with the included packages -- please don't add any more. Grading will be based on writing clean, commented code, along with a few short answers.\n",
        "\n",
        "As always, you're welcome to work on the project in groups and discuss ideas on the course wall, but please prepare your own write-up and write your own code."
      ]
    },
    {
      "cell_type": "code",
      "metadata": {
        "id": "AUYW83LqFsxd",
        "colab_type": "code",
        "colab": {}
      },
      "source": [
        "# This tells matplotlib not to try opening a new window for each plot.\n",
        "%matplotlib inline\n",
        "\n",
        "# General libraries.\n",
        "import re\n",
        "import numpy as np\n",
        "import matplotlib.pyplot as plt\n",
        "\n",
        "# SK-learn libraries for learning.\n",
        "from sklearn.pipeline import Pipeline\n",
        "from sklearn.neighbors import KNeighborsClassifier\n",
        "from sklearn.linear_model import LogisticRegression\n",
        "from sklearn.naive_bayes import BernoulliNB\n",
        "from sklearn.naive_bayes import MultinomialNB\n",
        "\n",
        "# SK-learn libraries for evaluation.\n",
        "from sklearn.metrics import confusion_matrix\n",
        "from sklearn import metrics\n",
        "from sklearn.metrics import classification_report\n",
        "\n",
        "# SK-learn library for importing the newsgroup data.\n",
        "from sklearn.datasets import fetch_20newsgroups\n",
        "\n",
        "# SK-learn libraries for feature extraction from text.\n",
        "from sklearn.feature_extraction.text import *"
      ],
      "execution_count": 0,
      "outputs": []
    },
    {
      "cell_type": "code",
      "metadata": {
        "id": "yuagfK9pIZB5",
        "colab_type": "code",
        "colab": {}
      },
      "source": [
        "import nltk"
      ],
      "execution_count": 0,
      "outputs": []
    },
    {
      "cell_type": "markdown",
      "metadata": {
        "id": "_ALNjGgCFsxg",
        "colab_type": "text"
      },
      "source": [
        "Load the data, stripping out metadata so that we learn classifiers that only use textual features. By default, newsgroups data is split into train and test sets. We further split the test so we have a dev set. Note that we specify 4 categories to use for this project. If you remove the categories argument from the fetch function, you'll get all 20 categories."
      ]
    },
    {
      "cell_type": "code",
      "metadata": {
        "id": "ecYpcoxaFsxh",
        "colab_type": "code",
        "colab": {}
      },
      "source": [
        "categories = ['alt.atheism', 'talk.religion.misc', 'comp.graphics', 'sci.space']\n",
        "newsgroups_train = fetch_20newsgroups(subset='train',\n",
        "                                      remove=('headers', 'footers', 'quotes'),\n",
        "                                      categories=categories)\n",
        "newsgroups_test = fetch_20newsgroups(subset='test',\n",
        "                                     remove=('headers', 'footers', 'quotes'),\n",
        "                                     categories=categories)\n",
        "\n",
        "num_test = int(len(newsgroups_test.target) / 2)\n",
        "test_data, test_labels = newsgroups_test.data[num_test:], newsgroups_test.target[num_test:]\n",
        "dev_data, dev_labels = newsgroups_test.data[:num_test], newsgroups_test.target[:num_test]\n",
        "train_data, train_labels = newsgroups_train.data, newsgroups_train.target\n",
        "\n",
        "print('training label shape:', train_labels.shape)\n",
        "print('test label shape:', test_labels.shape)\n",
        "print('dev label shape:', dev_labels.shape)\n",
        "print('labels names:', newsgroups_train.target_names)"
      ],
      "execution_count": 0,
      "outputs": []
    },
    {
      "cell_type": "code",
      "metadata": {
        "id": "lJXWcWTKgWqa",
        "colab_type": "code",
        "colab": {}
      },
      "source": [
        "newsgroups_train.target_names"
      ],
      "execution_count": 0,
      "outputs": []
    },
    {
      "cell_type": "markdown",
      "metadata": {
        "id": "OHTnOke6Fsxk",
        "colab_type": "text"
      },
      "source": [
        "(1) For each of the first 5 training examples, print the text of the message along with the label."
      ]
    },
    {
      "cell_type": "code",
      "metadata": {
        "id": "X8zhA06xFsxl",
        "colab_type": "code",
        "colab": {}
      },
      "source": [
        "def P1(num_examples=5):\n",
        "\n",
        "  ### STUDENT START ###\n",
        "  #print (np.column_stack((train_labels[:5], train_data[:5])))\n",
        "  #print (dict(zip(train_labels[:5], train_data[:5])))\n",
        "  \n",
        "  for i in range(5):\n",
        "    print(dict(label=newsgroups_train.target_names[train_labels[i]], text=train_data[i]))\n",
        "\n",
        "  ### STUDENT END ###\n",
        "  \n",
        "P1()"
      ],
      "execution_count": 0,
      "outputs": []
    },
    {
      "cell_type": "markdown",
      "metadata": {
        "id": "onfno6uHFsxm",
        "colab_type": "text"
      },
      "source": [
        "(2) Use CountVectorizer to turn the raw training text into feature vectors. You should use the fit_transform function, which makes 2 passes through the data: first it computes the vocabulary (\"fit\"), second it converts the raw text into feature vectors using the vocabulary (\"transform\").\n",
        "\n",
        "The vectorizer has a lot of options. To get familiar with some of them, write code to answer these questions:\n",
        "\n",
        "a. The output of the transform (also of fit_transform) is a sparse matrix: http://docs.scipy.org/doc/scipy-0.14.0/reference/generated/scipy.sparse.csr_matrix.html. What is the size of the vocabulary? What is the average number of non-zero features per example? What fraction of the entries in the matrix are non-zero? Hint: use \"nnz\" and \"shape\" attributes.\n",
        "\n",
        "b. What are the 0th and last feature strings (in alphabetical order)? Hint: use the vectorizer's get_feature_names function.\n",
        "\n",
        "c. Specify your own vocabulary with 4 words: [\"atheism\", \"graphics\", \"space\", \"religion\"]. Confirm the training vectors are appropriately shaped. Now what's the average number of non-zero features per example?\n",
        "\n",
        "d. Instead of extracting unigram word features, use \"analyzer\" and \"ngram_range\" to extract bigram and trigram character features. What size vocabulary does this yield?\n",
        "\n",
        "e. Use the \"min_df\" argument to prune words that appear in fewer than 10 documents. What size vocabulary does this yield?\n",
        "\n",
        "f. Using the standard CountVectorizer, what fraction of the words in the dev data are missing from the vocabulary? Hint: build a vocabulary for both train and dev and look at the size of the difference."
      ]
    },
    {
      "cell_type": "code",
      "metadata": {
        "id": "LyVwk5RvFsxn",
        "colab_type": "code",
        "colab": {}
      },
      "source": [
        "def P2():\n",
        "  ### STUDENT START ###\n",
        "  \n",
        "  vectorizer = CountVectorizer()\n",
        "  vtrain = vectorizer.fit_transform(train_data)\n",
        "  print (\"Question a)\")\n",
        "  print (\" - vocabulary size:\", vtrain.shape)\n",
        "  print (\" - non-zero features per example:\", vtrain.nnz / float(vtrain.shape[0]))\n",
        "  print (\" - non-zero features per matrix: %.2f%%\" % (vtrain.nnz / float(vtrain.shape[0]) / float(vtrain.shape[1]) * 100))\n",
        "\n",
        "  print (\"\\nQuestion b)\")\n",
        "  print (\" - 0th feature string:\", vectorizer.get_feature_names()[0])\n",
        "  print (\" - last feature string:\", vectorizer.get_feature_names()[-1])\n",
        "  ### STUDENT END ###\n",
        "\n",
        "P2()"
      ],
      "execution_count": 0,
      "outputs": []
    },
    {
      "cell_type": "markdown",
      "metadata": {
        "id": "ydjkRh6LFsxp",
        "colab_type": "text"
      },
      "source": [
        "(3) Use the default CountVectorizer options and report the f1 score (use metrics.f1_score) for a k nearest neighbors classifier; find the optimal value for k. Also fit a Multinomial Naive Bayes model and find the optimal value for alpha. Finally, fit a logistic regression model and find the optimal value for the regularization strength C using l2 regularization. A few questions:\n",
        "\n",
        "a. Why doesn't nearest neighbors work well for this problem?\n",
        "\n",
        "b. Any ideas why logistic regression doesn't work as well as Naive Bayes?\n",
        "\n",
        "c. Logistic regression estimates a weight vector for each class, which you can access with the coef\\_ attribute. Output the sum of the squared weight values for each class for each setting of the C parameter. Briefly explain the relationship between the sum and the value of C."
      ]
    },
    {
      "cell_type": "code",
      "metadata": {
        "id": "VvhpODdWFsxp",
        "colab_type": "code",
        "colab": {}
      },
      "source": [
        "#def P3():\n",
        "### STUDENT START ###\n",
        "\n",
        "### STUDENT END ###\n",
        "#P3()"
      ],
      "execution_count": 0,
      "outputs": []
    },
    {
      "cell_type": "markdown",
      "metadata": {
        "id": "jWtXwAlOFsxr",
        "colab_type": "text"
      },
      "source": [
        "ANSWER:"
      ]
    },
    {
      "cell_type": "markdown",
      "metadata": {
        "id": "dGEjsm_uFsxr",
        "colab_type": "text"
      },
      "source": [
        "(4) Train a logistic regression model. Find the 5 features with the largest weights for each label -- 20 features in total. Create a table with 20 rows and 4 columns that shows the weight for each of these features for each of the labels. Create the table again with bigram features. Any surprising features in this table?"
      ]
    },
    {
      "cell_type": "code",
      "metadata": {
        "id": "WN51Nv4fFsxs",
        "colab_type": "code",
        "colab": {}
      },
      "source": [
        "#def P4():\n",
        "### STUDENT START ###\n",
        "\n",
        "### STUDENT END ###\n",
        "#P4()"
      ],
      "execution_count": 0,
      "outputs": []
    },
    {
      "cell_type": "markdown",
      "metadata": {
        "id": "cY67F-tXFsxt",
        "colab_type": "text"
      },
      "source": [
        "ANSWER:"
      ]
    },
    {
      "cell_type": "markdown",
      "metadata": {
        "id": "rVWhSJHHFsxu",
        "colab_type": "text"
      },
      "source": [
        "(5) Try to improve the logistic regression classifier by passing a custom preprocessor to CountVectorizer. The preprocessing function runs on the raw text, before it is split into words by the tokenizer. Your preprocessor should try to normalize the input in various ways to improve generalization. For example, try lowercasing everything, replacing sequences of numbers with a single token, removing various other non-letter characters, and shortening long words. If you're not already familiar with regular expressions for manipulating strings, see https://docs.python.org/2/library/re.html, and re.sub() in particular. With your new preprocessor, how much did you reduce the size of the dictionary?\n",
        "\n",
        "For reference, I was able to improve dev F1 by 2 points."
      ]
    },
    {
      "cell_type": "code",
      "metadata": {
        "id": "l7gS3cGpFsxv",
        "colab_type": "code",
        "colab": {}
      },
      "source": [
        "#def empty_preprocessor(s):\n",
        "#    return s\n",
        "\n",
        "#def better_preprocessor(s):\n",
        "### STUDENT START ###\n",
        "\n",
        "### STUDENT END ###\n",
        "\n",
        "#def P5():\n",
        "### STUDENT START ###\n",
        "\n",
        "### STUDENT END ###\n",
        "#P5()"
      ],
      "execution_count": 0,
      "outputs": []
    },
    {
      "cell_type": "markdown",
      "metadata": {
        "id": "Uy-WITbNFsxw",
        "colab_type": "text"
      },
      "source": [
        "(6) The idea of regularization is to avoid learning very large weights (which are likely to fit the training data, but not generalize well) by adding a penalty to the total size of the learned weights. That is, logistic regression seeks the set of weights that minimizes errors in the training data AND has a small size. The default regularization, L2, computes this size as the sum of the squared weights (see P3, above). L1 regularization computes this size as the sum of the absolute values of the weights. The result is that whereas L2 regularization makes all the weights relatively small, L1 regularization drives lots of the weights to 0, effectively removing unimportant features.\n",
        "\n",
        "Train a logistic regression model using a \"l1\" penalty. Output the number of learned weights that are not equal to zero. How does this compare to the number of non-zero weights you get with \"l2\"? Now, reduce the size of the vocabulary by keeping only those features that have at least one non-zero weight and retrain a model using \"l2\".\n",
        "\n",
        "Make a plot showing accuracy of the re-trained model vs. the vocabulary size you get when pruning unused features by adjusting the C parameter.\n",
        "\n",
        "Note: The gradient descent code that trains the logistic regression model sometimes has trouble converging with extreme settings of the C parameter. Relax the convergence criteria by setting tol=.01 (the default is .0001)."
      ]
    },
    {
      "cell_type": "code",
      "metadata": {
        "id": "l6ho31SrFsxx",
        "colab_type": "code",
        "colab": {}
      },
      "source": [
        "#def P6():\n",
        "    # Keep this random seed here to make comparison easier.\n",
        "    #np.random.seed(0)\n",
        "\n",
        "    ### STUDENT START ###\n",
        "    \n",
        "    ### STUDENT END ###\n",
        "#P6()"
      ],
      "execution_count": 0,
      "outputs": []
    },
    {
      "cell_type": "markdown",
      "metadata": {
        "id": "QmrHf8AMFsxz",
        "colab_type": "text"
      },
      "source": [
        "(7) Use the TfidfVectorizer -- how is this different from the CountVectorizer? Train a logistic regression model with C=100.\n",
        "\n",
        "Make predictions on the dev data and show the top 3 documents where the ratio R is largest, where R is:\n",
        "\n",
        "maximum predicted probability / predicted probability of the correct label\n",
        "\n",
        "What kinds of mistakes is the model making? Suggest a way to address one particular issue that you see."
      ]
    },
    {
      "cell_type": "code",
      "metadata": {
        "id": "8vwU_9t2Fsx0",
        "colab_type": "code",
        "colab": {}
      },
      "source": [
        "#def P7():\n",
        "### STUDENT START ###\n",
        "\n",
        "## STUDENT END ###\n",
        "#P7()"
      ],
      "execution_count": 0,
      "outputs": []
    },
    {
      "cell_type": "markdown",
      "metadata": {
        "id": "bZmIPwExFsx1",
        "colab_type": "text"
      },
      "source": [
        "ANSWER:"
      ]
    },
    {
      "cell_type": "markdown",
      "metadata": {
        "id": "VmsDxtzoFsx1",
        "colab_type": "text"
      },
      "source": [
        "(8) EXTRA CREDIT\n",
        "\n",
        "Try implementing one of your ideas based on your error analysis. Use logistic regression as your underlying model."
      ]
    },
    {
      "cell_type": "code",
      "metadata": {
        "id": "ZMaqe8c5Fsx2",
        "colab_type": "code",
        "colab": {}
      },
      "source": [
        ""
      ],
      "execution_count": 0,
      "outputs": []
    }
  ]
}