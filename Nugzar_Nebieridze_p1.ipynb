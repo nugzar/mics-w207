{
  "nbformat": 4,
  "nbformat_minor": 0,
  "metadata": {
    "colab": {
      "name": "Nugzar_Nebieridze_p1.ipynb",
      "provenance": [],
      "private_outputs": true,
      "collapsed_sections": [],
      "include_colab_link": true
    },
    "kernelspec": {
      "name": "python3",
      "display_name": "Python 3"
    }
  },
  "cells": [
    {
      "cell_type": "markdown",
      "metadata": {
        "id": "view-in-github",
        "colab_type": "text"
      },
      "source": [
        "<a href=\"https://colab.research.google.com/github/nugzar/mics-w207/blob/master/Nugzar_Nebieridze_p1.ipynb\" target=\"_parent\"><img src=\"https://colab.research.google.com/assets/colab-badge.svg\" alt=\"Open In Colab\"/></a>"
      ]
    },
    {
      "cell_type": "markdown",
      "metadata": {
        "id": "z6UHmLYVhWAN",
        "colab_type": "text"
      },
      "source": [
        "# Project 1: Digit Classification with KNN and Naive Bayes"
      ]
    },
    {
      "cell_type": "markdown",
      "metadata": {
        "id": "03M_JSg3hWAO",
        "colab_type": "text"
      },
      "source": [
        "In this project, you'll implement your own image recognition system for classifying digits. Read through the code and the instructions carefully and add your own code where indicated. Each problem can be addressed succinctly with the included packages -- please don't add any more. Grading will be based on writing clean, commented code, along with a few short answers.\n",
        "\n",
        "As always, you're welcome to work on the project in groups and discuss ideas on the course wall, but <b> please prepare your own write-up (with your own code). </b>\n",
        "\n",
        "If you're interested, check out these links related to digit recognition:\n",
        "\n",
        "* Yann Lecun's MNIST benchmarks: http://yann.lecun.com/exdb/mnist/\n",
        "* Stanford Streetview research and data: http://ufldl.stanford.edu/housenumbers/\n",
        "\n",
        "Finally, if you'd like to get started with Tensorflow, you can read through this tutorial: https://www.tensorflow.org/tutorials/keras/basic_classification. It uses a dataset called \"fashion_mnist\", which is identical in structure to the original digit mnist, but uses images of clothing rather than images of digits. The number of training examples and number of labels is the same. In fact, you can simply replace the code that loads \"fashion_mnist\" with simply \"mnist\" and everything should work fine."
      ]
    },
    {
      "cell_type": "code",
      "metadata": {
        "id": "iJ9ayCvyhWAP",
        "colab_type": "code",
        "colab": {}
      },
      "source": [
        "# This tells matplotlib not to try opening a new window for each plot.\n",
        "%matplotlib inline\n",
        "\n",
        "# Import a bunch of libraries.\n",
        "import time\n",
        "import numpy as np\n",
        "import matplotlib.pyplot as plt\n",
        "from matplotlib.ticker import MultipleLocator\n",
        "from sklearn.pipeline import Pipeline\n",
        "from sklearn.datasets import fetch_openml\n",
        "from sklearn.neighbors import KNeighborsClassifier\n",
        "from sklearn.metrics import confusion_matrix\n",
        "from sklearn.linear_model import LinearRegression\n",
        "from sklearn.naive_bayes import BernoulliNB\n",
        "from sklearn.naive_bayes import MultinomialNB\n",
        "from sklearn.naive_bayes import GaussianNB\n",
        "from sklearn.model_selection import GridSearchCV\n",
        "from sklearn.metrics import classification_report\n",
        "\n",
        "# Custom imports\n",
        "# Note that there are Guassian blur filters available, for example in \n",
        "# scipy.ndimage.filters. You're welcome to experiment with those, but \n",
        "# you are likely to get the best results with the simplified version \n",
        "# I described above.\n",
        "# I decided to play with scipy.ndimage.filters, so I am importing it \n",
        "import scipy.ndimage.filters\n",
        "\n",
        "# Got approval in Slack to use accuracy_score\n",
        "from sklearn.metrics import accuracy_score\n",
        "\n",
        "# You can do this as a preprocessing step, or with the binarize argument\n",
        "from sklearn.preprocessing import binarize\n",
        "\n",
        "# Set the randomizer seed so results are the same each time.\n",
        "np.random.seed(0)"
      ],
      "execution_count": 0,
      "outputs": []
    },
    {
      "cell_type": "markdown",
      "metadata": {
        "id": "sO1t0ypThWAR",
        "colab_type": "text"
      },
      "source": [
        "Load the data. Notice that we are splitting the data into training, development, and test. We also have a small subset of the training data called mini_train_data and mini_train_labels that you should use in all the experiments below, unless otherwise noted."
      ]
    },
    {
      "cell_type": "code",
      "metadata": {
        "id": "3yK9DacchWAS",
        "colab_type": "code",
        "colab": {}
      },
      "source": [
        "# Load the digit data from https://www.openml.org/d/554 or from default local location '~/scikit_learn_data/...'\n",
        "X, Y = fetch_openml(name='mnist_784', return_X_y=True, cache=False)\n",
        "\n",
        "\n",
        "# Rescale grayscale values to [0,1].\n",
        "X = X / 255.0\n",
        "\n",
        "# Shuffle the input: create a random permutation of the integers between 0 and the number of data points and apply this\n",
        "# permutation to X and Y.\n",
        "# NOTE: Each time you run this cell, you'll re-shuffle the data, resulting in a different ordering.\n",
        "shuffle = np.random.permutation(np.arange(X.shape[0]))\n",
        "X, Y = X[shuffle], Y[shuffle]\n",
        "\n",
        "print('data shape: ', X.shape)\n",
        "print('label shape:', Y.shape)\n",
        "\n",
        "# Set some variables to hold test, dev, and training data.\n",
        "test_data, test_labels = X[61000:], Y[61000:]\n",
        "dev_data, dev_labels = X[60000:61000], Y[60000:61000]\n",
        "train_data, train_labels = X[:60000], Y[:60000]\n",
        "mini_train_data, mini_train_labels = X[:1000], Y[:1000]"
      ],
      "execution_count": 0,
      "outputs": []
    },
    {
      "cell_type": "markdown",
      "metadata": {
        "id": "atc2JpWKhWAV",
        "colab_type": "text"
      },
      "source": [
        "(1) Create a 10x10 grid to visualize 10 examples of each digit. Python hints:\n",
        "\n",
        "- plt.rc() for setting the colormap, for example to black and white\n",
        "- plt.subplot() for creating subplots\n",
        "- plt.imshow() for rendering a matrix\n",
        "- np.array.reshape() for reshaping a 1D feature vector into a 2D matrix (for rendering)"
      ]
    },
    {
      "cell_type": "code",
      "metadata": {
        "id": "436UeH7JhWAW",
        "colab_type": "code",
        "colab": {}
      },
      "source": [
        "def P1(num_examples=10):\n",
        "  # X is always 10 as we have only 10 digits (0...9)\n",
        "  # Y is equal to num_examples\n",
        "  fig, ax = plt.subplots(10, num_examples)\n",
        "  [axi.set_axis_off() for axi in ax.ravel()]\n",
        "  \n",
        "  for digit in range(0,10):\n",
        "    digit_indexes = [index for index, value in enumerate(mini_train_labels) \n",
        "                     if value == str(digit)]\n",
        "    img_column = 0\n",
        "    for index in digit_indexes[:num_examples]:\n",
        "      ax[digit,img_column].imshow(mini_train_data[index].reshape((28,28)), \n",
        "                                  cmap='Greys', interpolation='nearest')\n",
        "      img_column = img_column + 1\n",
        "      \n",
        "P1(8)"
      ],
      "execution_count": 0,
      "outputs": []
    },
    {
      "cell_type": "markdown",
      "metadata": {
        "id": "EMQAHr7QhWAX",
        "colab_type": "text"
      },
      "source": [
        "(2) Evaluate a K-Nearest-Neighbors model with k = [1,3,5,7,9] using the mini training set. Report accuracy on the dev set. For k=1, show precision, recall, and F1 for each label. Which is the most difficult digit?\n",
        "\n",
        "- KNeighborsClassifier() for fitting and predicting\n",
        "- classification_report() for producing precision, recall, F1 results"
      ]
    },
    {
      "cell_type": "code",
      "metadata": {
        "id": "-it5pn8-hWAY",
        "colab_type": "code",
        "colab": {}
      },
      "source": [
        "def P2(k_values):\n",
        "\n",
        "  for k in k_values:\n",
        "    model = KNeighborsClassifier(n_neighbors=k)\n",
        "    model.fit(mini_train_data, mini_train_labels)\n",
        "    \n",
        "    expected = dev_labels\n",
        "    predicted = model.predict(dev_data)\n",
        "\n",
        "    print(\"Classification report for classifier %s:\\n%s\\n\"\n",
        "      % (model, classification_report(expected, predicted)))\n",
        "\n",
        "k_values = [1, 3, 5, 7, 9]\n",
        "P2(k_values)"
      ],
      "execution_count": 0,
      "outputs": []
    },
    {
      "cell_type": "markdown",
      "metadata": {
        "id": "tZc9gzn5hWAZ",
        "colab_type": "text"
      },
      "source": [
        "ANSWER: \"8\" has lowest f1-score. Therefore, the most difficult digit is \"8\""
      ]
    },
    {
      "cell_type": "markdown",
      "metadata": {
        "id": "7b6YEAzzhWAa",
        "colab_type": "text"
      },
      "source": [
        "(3) Using k=1, report dev set accuracy for the training set sizes below. Also, measure the amount of time needed for prediction with each training size.\n",
        "\n",
        "- time.time() gives a wall clock value you can use for timing operations"
      ]
    },
    {
      "cell_type": "code",
      "metadata": {
        "id": "gEpNzDEjhWAa",
        "colab_type": "code",
        "colab": {}
      },
      "source": [
        "def P3(train_sizes, accuracies):\n",
        "  \n",
        "  # We will use full train dataset instead of mini train data\n",
        "  # as mini train data does not contain 25,000 values\n",
        "\n",
        "  for train_size in train_sizes:\n",
        "    trainset_data = train_data[:train_size]\n",
        "    trainset_labels = train_labels[:train_size]\n",
        "    \n",
        "    starttime = time.time()\n",
        "    \n",
        "    model = KNeighborsClassifier(n_neighbors=1)\n",
        "    model.fit(trainset_data, trainset_labels)\n",
        "\n",
        "    traintime = time.time()\n",
        "    \n",
        "    expected = dev_labels\n",
        "    predicted = model.predict(dev_data)\n",
        "    \n",
        "    endtime = time.time()\n",
        "    \n",
        "    accuracies.append(accuracy_score(expected, predicted))\n",
        "    \n",
        "    print (\"Train size: %d, training time: %.2f sec, prediction time: %.2f sec\" % (train_size, traintime - starttime, endtime - traintime))\n",
        "  \n",
        "train_sizes = [100, 200, 400, 800, 1600, 3200, 6400, 12800, 25000]\n",
        "accuracies = []\n",
        "P3(train_sizes, accuracies)\n",
        "\n",
        "print (\"Accuracies:\", accuracies)"
      ],
      "execution_count": 0,
      "outputs": []
    },
    {
      "cell_type": "markdown",
      "metadata": {
        "id": "B56lVsKNhWAc",
        "colab_type": "text"
      },
      "source": [
        "(4) Fit a regression model that predicts accuracy from training size. What does it predict for n=60000? What's wrong with using regression here? Can you apply a transformation that makes the predictions more reasonable?\n",
        "\n",
        "- Remember that the sklearn fit() functions take an input matrix X and output vector Y. So each input example in X is a vector, even if it contains only a single value."
      ]
    },
    {
      "cell_type": "code",
      "metadata": {
        "id": "4xE_qIJghWAc",
        "colab_type": "code",
        "colab": {}
      },
      "source": [
        "def P4():\n",
        "\n",
        "  train_labels_v = [int(x) for x in train_labels]\n",
        "  expected_v = [int(x) for x in dev_labels]\n",
        "  \n",
        "  model = LinearRegression()\n",
        "  model.fit(train_data, train_labels)\n",
        "  \n",
        "  predicted = model.predict(dev_data)\n",
        "  predicted_v = [int(x.round()) for x in predicted]\n",
        "  \n",
        "  print (\"%.2f\" % (accuracy_score(expected_v, predicted_v)))\n",
        "  \n",
        "  \n",
        "  model = LinearRegression()\n",
        "  model.fit(\n",
        "      scipy.ndimage.filters.gaussian_filter(train_data, 1, truncate=4), \n",
        "            train_labels)\n",
        "  \n",
        "  predicted = model.predict(\n",
        "      scipy.ndimage.filters.gaussian_filter(dev_data, 1, truncate=4))\n",
        "  predicted_v = [int(x.round()) for x in predicted]\n",
        "  \n",
        "  print (\"%.2f\" % (accuracy_score(expected_v, predicted_v)))\n",
        "  \n",
        "\n",
        "P4()\n",
        "#print(mini_train_data)"
      ],
      "execution_count": 0,
      "outputs": []
    },
    {
      "cell_type": "markdown",
      "metadata": {
        "id": "HYYYL9cGhWAe",
        "colab_type": "text"
      },
      "source": [
        "ANSWER:"
      ]
    },
    {
      "cell_type": "markdown",
      "metadata": {
        "id": "geAQJjGRhWAe",
        "colab_type": "text"
      },
      "source": [
        "Fit a 1-NN and output a confusion matrix for the dev data. Use the confusion matrix to identify the most confused pair of digits, and display a few example mistakes.\n",
        "\n",
        "- confusion_matrix() produces a confusion matrix"
      ]
    },
    {
      "cell_type": "code",
      "metadata": {
        "id": "Bq36xaQohWAf",
        "colab_type": "code",
        "colab": {}
      },
      "source": [
        "def P5():\n",
        "\n",
        "  model = KNeighborsClassifier(n_neighbors=1)\n",
        "  model.fit(mini_train_data, mini_train_labels)\n",
        "    \n",
        "  expected = dev_labels\n",
        "  predicted = model.predict(dev_data)\n",
        "\n",
        "  cm = confusion_matrix(expected, predicted)\n",
        "  \n",
        "  counts_actual = []\n",
        "  counts_false = []\n",
        "  counts_true = []\n",
        "  counts_score = []\n",
        "  \n",
        "  for i in range(10):\n",
        "    counts_actual.append(len([x for x in expected if x == str(i)]))\n",
        "    counts_false.append(sum(cm[i]) - cm[i][i])\n",
        "    counts_true.append(cm[i][i])\n",
        "    counts_score.append(counts_true[i] / counts_actual[i])\n",
        "  \n",
        "  \n",
        "  print(\"Confusion Matrix for classifier %s:\\n%s\\n\" % (model, cm))\n",
        "  print(\"Actual count:\", counts_actual)\n",
        "  print(\"Mismatches  :\", counts_false)\n",
        "  print(\"Matches     :\", counts_true)\n",
        "  print(\"Accuracy    :\", counts_score)\n",
        "  \n",
        "  # Let's take first 10 mismatched index\n",
        "  mismatched_indexes = [i for i, t in enumerate(zip(predicted, expected)) \n",
        "                        if t[0] != t[1]][:10]\n",
        "  print (\"\\n\\nMismatched indexes:\", mismatched_indexes)\n",
        "  print (\"Mismatched images:\")\n",
        "  \n",
        "  plt.figure(figsize=(20,4))\n",
        "  for i, image_index in enumerate(mismatched_indexes):\n",
        "    plt.subplot(1, len(mismatched_indexes), i + 1)\n",
        "    plt.imshow(dev_data[image_index].reshape((28,28)), cmap='Greys', interpolation='nearest')\n",
        "    plt.title(\"Predicted: {0}, Actual: {1}\".format(predicted[image_index], expected[image_index]), fontsize = 8)\n",
        "\n",
        "P5()"
      ],
      "execution_count": 0,
      "outputs": []
    },
    {
      "cell_type": "markdown",
      "metadata": {
        "id": "tgqMKb-hhWAh",
        "colab_type": "text"
      },
      "source": [
        "(6) A common image processing technique is to smooth an image by blurring. The idea is that the value of a particular pixel is estimated as the weighted combination of the original value and the values around it. Typically, the blurring is Gaussian -- that is, the weight of a pixel's influence is determined by a Gaussian function over the distance to the relevant pixel.\n",
        "\n",
        "Implement a simplified Gaussian blur by just using the 8 neighboring pixels: the smoothed value of a pixel is a weighted combination of the original value and the 8 neighboring values. Try applying your blur filter in 3 ways:\n",
        "- preprocess the training data but not the dev data\n",
        "- preprocess the dev data but not the training data\n",
        "- preprocess both training and dev data\n",
        "\n",
        "Note that there are Guassian blur filters available, for example in scipy.ndimage.filters. You're welcome to experiment with those, but you are likely to get the best results with the simplified version I described above."
      ]
    },
    {
      "cell_type": "code",
      "metadata": {
        "id": "lSKHmHGshWAi",
        "colab_type": "code",
        "colab": {}
      },
      "source": [
        "def P6():\n",
        "    \n",
        "  # 8 neighbouring values mean that we have 9 pixels\n",
        "  # therefore, the width = 9\n",
        "  # as whe width formula is:\n",
        "  # w = 2*int(truncate*sigma + 0.5) + 1\n",
        "  # (w - 1)/2 = int(truncate*sigma + 0.5)\n",
        "  # then id w == 9 then\n",
        "  # (9 - 1)/2 = 4 = int(truncate*sigma + 0.5)\n",
        "  # by removing int() we will get the range:\n",
        "  # 4 =< truncate*sigma + 0.5 < 5\n",
        "  # 3.5 =< truncate*sigma < 4.5\n",
        "  # by default, truncate = 4.0, therefore\n",
        "  # 0.875 =< sigma < 1.125\n",
        "  \n",
        "  # As: 0.875 =< sigma < 1.125\n",
        "  sigma = 1\n",
        "  k = 1\n",
        "  \n",
        "  # Option 1: preprocess the training data but not the dev data\n",
        "  model = KNeighborsClassifier(n_neighbors=k)\n",
        "  model.fit(\n",
        "      scipy.ndimage.filters.gaussian_filter(mini_train_data, sigma, truncate=4),\n",
        "      mini_train_labels)\n",
        "  print(\"Option 1. Accuracy: %.2f\" % \n",
        "        accuracy_score(dev_labels, model.predict(dev_data)))\n",
        "\n",
        "  # Option 2: preprocess the dev data but not the training data\n",
        "  model = KNeighborsClassifier(n_neighbors=k)\n",
        "  model.fit(mini_train_data, mini_train_labels)\n",
        "  print(\"Option 2. Accuracy: %.2f\" % accuracy_score(dev_labels, \n",
        "    model.predict(scipy.ndimage.filters.gaussian_filter(dev_data, sigma, truncate=4))))\n",
        "\n",
        "  # Option 3: preprocess both training and dev data\n",
        "  model = KNeighborsClassifier(n_neighbors=k)\n",
        "  model.fit(\n",
        "      scipy.ndimage.filters.gaussian_filter(mini_train_data, sigma, truncate=4), \n",
        "      mini_train_labels)\n",
        "  print(\"Option 3. Accuracy: %.2f\" % accuracy_score(dev_labels, \n",
        "    model.predict(scipy.ndimage.filters.gaussian_filter(dev_data, sigma, truncate=4))))\n",
        "  \n",
        "  # Just visualizing the blurred images\n",
        "  data = scipy.ndimage.filters.gaussian_filter(dev_data, 1, truncate=4)\n",
        "  \n",
        "  for i in range(5):\n",
        "    plt.subplot(1, 5, i + 1)\n",
        "    plt.imshow(data[i].reshape((28,28)), cmap='Greys', interpolation='nearest')\n",
        "\n",
        "P6()"
      ],
      "execution_count": 0,
      "outputs": []
    },
    {
      "cell_type": "markdown",
      "metadata": {
        "id": "FdZpp9b2hWAj",
        "colab_type": "text"
      },
      "source": [
        "ANSWER:"
      ]
    },
    {
      "cell_type": "markdown",
      "metadata": {
        "id": "LtgepWfAhWAk",
        "colab_type": "text"
      },
      "source": [
        "(7) Fit a Naive Bayes classifier and report accuracy on the dev data. Remember that Naive Bayes estimates P(feature|label). While sklearn can handle real-valued features, let's start by mapping the pixel values to either 0 or 1. You can do this as a preprocessing step, or with the binarize argument. With binary-valued features, you can use BernoulliNB. Next try mapping the pixel values to 0, 1, or 2, representing white, grey, or black. This mapping requires MultinomialNB. Does the multi-class version improve the results? Why or why not?"
      ]
    },
    {
      "cell_type": "code",
      "metadata": {
        "id": "eGpH-4IQhWAk",
        "colab_type": "code",
        "colab": {}
      },
      "source": [
        "def CONVERT_012(a):\n",
        "  arr_1 = np.where(a < 0.33, 0, a)\n",
        "  arr_2 = np.where(arr_1 > 0.66, 2, arr_1)\n",
        "  return np.where((arr_2 > 0) & (arr_2 < 2), 1, arr_2)\n",
        "\n",
        "def P7():\n",
        "  \n",
        "  binarized_mini_train_data = [binarize(x.reshape(1, -1))[0] for x in mini_train_data]\n",
        "  binarized_dev_data = [binarize(x.reshape(1, -1))[0] for x in dev_data]\n",
        "  expected = dev_labels\n",
        "\n",
        "  model = GaussianNB()\n",
        "  model.fit(mini_train_data, mini_train_labels)\n",
        "  predicted_gnb = model.predict(dev_data)\n",
        "\n",
        "  print (\"GaussianNB accuracy score: %.2f\" % accuracy_score(expected, predicted_gnb))\n",
        "  \n",
        "  model = BernoulliNB()\n",
        "  model.fit(binarized_mini_train_data, mini_train_labels)\n",
        "  predicted_bnb = model.predict(binarized_dev_data)\n",
        "  \n",
        "  print (\"BernoulliNB accuracy score: %.2f\" % accuracy_score(expected, predicted_bnb))\n",
        "  \n",
        "  # Converting values to 0, 1, 2\n",
        "  \n",
        "  grayscale_mini_train_data = CONVERT_012(mini_train_data)\n",
        "  grayscale_dev_data = CONVERT_012(dev_data)\n",
        "\n",
        "  model = MultinomialNB()\n",
        "  model.fit(grayscale_mini_train_data, mini_train_labels)\n",
        "  predicted_mnb = model.predict(grayscale_dev_data)\n",
        "  \n",
        "  print (\"MultinomialNB accuracy score: %.2f\" % accuracy_score(expected, predicted_bnb))\n",
        "\n",
        "P7()"
      ],
      "execution_count": 0,
      "outputs": []
    },
    {
      "cell_type": "markdown",
      "metadata": {
        "id": "zNLrgggohWAm",
        "colab_type": "text"
      },
      "source": [
        "ANSWER:"
      ]
    },
    {
      "cell_type": "markdown",
      "metadata": {
        "id": "PqjbRLg7hWAm",
        "colab_type": "text"
      },
      "source": [
        "(8) Use GridSearchCV to perform a search over values of alpha (the Laplace smoothing parameter) in a Bernoulli NB model. What is the best value for alpha? What is the accuracy when alpha=0? Is this what you'd expect?\n",
        "\n",
        "- Note that GridSearchCV partitions the training data so the results will be a bit different than if you used the dev data for evaluation."
      ]
    },
    {
      "cell_type": "code",
      "metadata": {
        "id": "0AvZ-Wp3hWAn",
        "colab_type": "code",
        "colab": {}
      },
      "source": [
        "def P8(alphas):\n",
        "\n",
        "  binarized_mini_train_data = [binarize(x.reshape(1, -1))[0] for x in mini_train_data]\n",
        "  binarized_dev_data = [binarize(x.reshape(1, -1))[0] for x in dev_data]\n",
        "  \n",
        "  model = GridSearchCV(BernoulliNB(), alphas)\n",
        "  model.fit(binarized_mini_train_data, mini_train_labels)\n",
        "  \n",
        "  predicted = model.predict(binarized_dev_data)\n",
        "  \n",
        "  return model\n",
        "  \n",
        "alphas = {'alpha': [0.0, 0.0001, 0.001, 0.01, 0.1, 0.5, 1.0, 2.0, 10.0]}\n",
        "nb = P8(alphas)"
      ],
      "execution_count": 0,
      "outputs": []
    },
    {
      "cell_type": "code",
      "metadata": {
        "id": "e52j68ZshWAo",
        "colab_type": "code",
        "colab": {}
      },
      "source": [
        "print(nb.best_params_)"
      ],
      "execution_count": 0,
      "outputs": []
    },
    {
      "cell_type": "markdown",
      "metadata": {
        "id": "1yEg9keThWAp",
        "colab_type": "text"
      },
      "source": [
        "ANSWER: {'alpha': 0.01}"
      ]
    },
    {
      "cell_type": "markdown",
      "metadata": {
        "id": "B07GDiDdhWAq",
        "colab_type": "text"
      },
      "source": [
        "(9) Try training a model using GuassianNB, which is intended for real-valued features, and evaluate on the dev data. You'll notice that it doesn't work so well. Try to diagnose the problem. You should be able to find a simple fix that returns the accuracy to around the same rate as BernoulliNB. Explain your solution.\n",
        "\n",
        "Hint: examine the parameters estimated by the fit() method, theta\\_ and sigma\\_."
      ]
    },
    {
      "cell_type": "code",
      "metadata": {
        "id": "gBLbTMWChWAq",
        "colab_type": "code",
        "colab": {}
      },
      "source": [
        "def P9():\n",
        "\n",
        "  model = GaussianNB()\n",
        "  model.fit(mini_train_data, mini_train_labels)\n",
        "  predicted_gnb = model.predict(dev_data)\n",
        "  print (\"GaussianNB accuracy score (low variance): %.2f\" % accuracy_score(dev_labels, predicted_gnb))\n",
        "    \n",
        "  \n",
        "  model = GaussianNB(var_smoothing=0.1)\n",
        "  model.fit(mini_train_data, mini_train_labels)\n",
        "  predicted_gnb = model.predict(dev_data)\n",
        "  print (\"GaussianNB accuracy score (high variance): %.2f\" % accuracy_score(dev_labels, predicted_gnb))\n",
        "\n",
        "gnb = P9()"
      ],
      "execution_count": 0,
      "outputs": []
    },
    {
      "cell_type": "markdown",
      "metadata": {
        "id": "1SyHTEJohWAt",
        "colab_type": "text"
      },
      "source": [
        "ANSWER: The smoothing parameter or variance was too small. I just increased it a little"
      ]
    },
    {
      "cell_type": "markdown",
      "metadata": {
        "id": "dgZMuc1VhWAt",
        "colab_type": "text"
      },
      "source": [
        "(10) Because Naive Bayes is a generative model, we can use the trained model to generate digits. Train a BernoulliNB model and then generate a 10x20 grid with 20 examples of each digit. Because you're using a Bernoulli model, each pixel output will be either 0 or 1. How do the generated digits compare to the training digits?\n",
        "\n",
        "- You can use np.random.rand() to generate random numbers from a uniform distribution\n",
        "- The estimated probability of each pixel is stored in feature\\_log\\_prob\\_. You'll need to use np.exp() to convert a log probability back to a probability."
      ]
    },
    {
      "cell_type": "code",
      "metadata": {
        "id": "ktii-Mp-hWAu",
        "colab_type": "code",
        "colab": {}
      },
      "source": [
        "def P10(num_examples):\n",
        "\n",
        "  \n",
        "  binarized_mini_train_data = [binarize(x.reshape(1, -1))[0] for x in mini_train_data]\n",
        "  binarized_dev_data = [binarize(x.reshape(1, -1))[0] for x in dev_data]\n",
        "  expected = dev_labels\n",
        "\n",
        "  model = BernoulliNB()\n",
        "  model.fit(binarized_mini_train_data, mini_train_labels)\n",
        "\n",
        "  fig, ax = plt.subplots(10, num_examples)\n",
        "  [axi.set_axis_off() for axi in ax.ravel()]\n",
        "\n",
        "  for img_column in range(num_examples):\n",
        "    rnd_array = np.random.rand(10, 784)\n",
        "    rnd_images = rnd_array * model.feature_log_prob_\n",
        "    binarized_rnd_images = np.where(rnd_images < 0.5, 0, 1)\n",
        "    \n",
        "    for digit in range(10):\n",
        "      ax[digit,img_column].imshow(rnd_images[digit].reshape((28,28)), \n",
        "                                  cmap='Greys', interpolation='nearest')\n",
        "      \n",
        "P10(20)"
      ],
      "execution_count": 0,
      "outputs": []
    },
    {
      "cell_type": "markdown",
      "metadata": {
        "id": "SuQd1fTGhWAw",
        "colab_type": "text"
      },
      "source": [
        "ANSWER:"
      ]
    },
    {
      "cell_type": "markdown",
      "metadata": {
        "id": "ksHMg73uhWAx",
        "colab_type": "text"
      },
      "source": [
        "(11) Remember that a strongly calibrated classifier is rougly 90% accurate when the posterior probability of the predicted class is 0.9. A weakly calibrated classifier is more accurate when the posterior is 90% than when it is 80%. A poorly calibrated classifier has no positive correlation between posterior and accuracy.\n",
        "\n",
        "Train a BernoulliNB model with a reasonable alpha value. For each posterior bucket (think of a bin in a histogram), you want to estimate the classifier's accuracy. So for each prediction, find the bucket the maximum posterior belongs to and update the \"correct\" and \"total\" counters.\n",
        "\n",
        "How would you characterize the calibration for the Naive Bayes model?"
      ]
    },
    {
      "cell_type": "code",
      "metadata": {
        "id": "a1N-St12hWAy",
        "colab_type": "code",
        "colab": {}
      },
      "source": [
        "#def P11(buckets, correct, total):\n",
        "    \n",
        "### STUDENT START ###\n",
        "\n",
        "\n",
        "                \n",
        "### STUDENT END ###\n",
        "\n",
        "#buckets = [0.5, 0.9, 0.999, 0.99999, 0.9999999, 0.999999999, 0.99999999999, 0.9999999999999, 1.0]\n",
        "#correct = [0 for i in buckets]\n",
        "#total = [0 for i in buckets]\n",
        "\n",
        "#P11(buckets, correct, total)\n",
        "\n",
        "#for i in range(len(buckets)):\n",
        "#    accuracy = 0.0\n",
        "#    if (total[i] > 0): accuracy = correct[i] / total[i]\n",
        "#    print('p(pred) <= %.13f    total = %3d    accuracy = %.3f' %(buckets[i], total[i], accuracy))"
      ],
      "execution_count": 0,
      "outputs": []
    },
    {
      "cell_type": "markdown",
      "metadata": {
        "id": "h-4qQsrrhWA1",
        "colab_type": "text"
      },
      "source": [
        "ANSWER:"
      ]
    },
    {
      "cell_type": "markdown",
      "metadata": {
        "id": "jLDISyh4hWA1",
        "colab_type": "text"
      },
      "source": [
        "(12) EXTRA CREDIT\n",
        "\n",
        "Try designing extra features to see if you can improve the performance of Naive Bayes on the dev set. Here are a few ideas to get you started:\n",
        "- Try summing the pixel values in each row and each column.\n",
        "- Try counting the number of enclosed regions; 8 usually has 2 enclosed regions, 9 usually has 1, and 7 usually has 0.\n",
        "\n",
        "Make sure you comment your code well!"
      ]
    },
    {
      "cell_type": "code",
      "metadata": {
        "id": "-P7h-t2ThWA2",
        "colab_type": "code",
        "colab": {}
      },
      "source": [
        "#def P12():\n",
        "\n",
        "### STUDENT START ###\n",
        "\n",
        "\n",
        "### STUDENT END ###\n",
        "\n",
        "#P12()"
      ],
      "execution_count": 0,
      "outputs": []
    }
  ]
}